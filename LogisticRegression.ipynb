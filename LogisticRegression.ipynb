{
 "cells": [
  {
   "cell_type": "markdown",
   "metadata": {},
   "source": [
    "### Import packages needed for the project"
   ]
  },
  {
   "cell_type": "code",
   "execution_count": 2,
   "metadata": {},
   "outputs": [],
   "source": [
    "import matplotlib.pyplot as plt\n",
    "import seaborn as sns\n",
    "import pandas as pd\n",
    "import numpy as np\n",
    "import plotly.express as px\n",
    "import plotly.figure_factory as ff\n",
    "\n",
    "from sklearn.model_selection import train_test_split\n",
    "from sklearn.metrics import classification_report, mean_squared_error, accuracy_score, precision_score, recall_score\n",
    "from sklearn.preprocessing import PolynomialFeatures\n",
    "from sklearn.linear_model import LinearRegression\n",
    "from sklearn.linear_model import LogisticRegression\n",
    "from sklearn import preprocessing\n",
    "from sklearn.preprocessing import LabelEncoder\n",
    "from sklearn.preprocessing import OneHotEncoder\n",
    "\n",
    "from IPython.display import display\n",
    "\n",
    "from sklearn.svm import OneClassSVM\n",
    "from numpy import where"
   ]
  },
  {
   "cell_type": "markdown",
   "metadata": {},
   "source": [
    "### Preprocess the data from the csv file"
   ]
  },
  {
   "cell_type": "code",
   "execution_count": 32,
   "metadata": {},
   "outputs": [],
   "source": [
    "# Load the dataset\n",
    "data = pd.read_csv('Allergen_Status_of_Food_Products.csv')\n",
    "\n",
    "# Check for and handle NaN values in the 'Prediction' column\n",
    "data_cleaned = data.dropna(subset=['Prediction'])\n",
    "\n",
    "# Dropping unnecessary columns\n",
    "data_cleaned = data_cleaned.drop(['Price ($)', 'Customer rating (Out of 5)', 'Allergens'], axis=1)\n",
    "\n",
    "# Encoding categorical variables\n",
    "# Modify encoder initialization to handle unknown categories\n",
    "encoder = OneHotEncoder(handle_unknown='ignore')\n",
    "encoder.fit(data_cleaned[['Food Product', 'Main Ingredient', 'Sweetener', 'Fat/Oil', 'Seasoning', ]])\n",
    "data_encoded = encoder.transform(data_cleaned[['Food Product', 'Main Ingredient', 'Sweetener', 'Fat/Oil', 'Seasoning']])\n",
    "\n",
    "# Split the data\n",
    "X = data_encoded\n",
    "y = data_cleaned['Prediction']\n",
    "X_train, X_test, y_train, y_test = train_test_split(X, y, test_size=0.2, random_state=21)\n"
   ]
  },
  {
   "cell_type": "markdown",
   "metadata": {},
   "source": [
    "### Create a logistic regression model for the data"
   ]
  },
  {
   "cell_type": "code",
   "execution_count": 38,
   "metadata": {},
   "outputs": [
    {
     "name": "stdout",
     "output_type": "stream",
     "text": [
      "Precision of 'Contains': 0.8913043478260869\n",
      "Recall of 'Contains': 0.82\n",
      "Precision of 'Does not contain': 0.7352941176470589\n",
      "Recall of 'Does not contain': 0.8333333333333334\n",
      "Accuracy 0.825\n",
      "Classification Report\n",
      "                  precision    recall  f1-score   support\n",
      "\n",
      "        Contains       0.89      0.82      0.85        50\n",
      "Does not contain       0.74      0.83      0.78        30\n",
      "\n",
      "        accuracy                           0.82        80\n",
      "       macro avg       0.81      0.83      0.82        80\n",
      "    weighted avg       0.83      0.82      0.83        80\n",
      "\n"
     ]
    }
   ],
   "source": [
    "# Create and train the logistic regression model\n",
    "logreg = LogisticRegression(max_iter=10000, penalty='l2')\n",
    "logreg.fit(X_train, y_train)\n",
    "\n",
    "# Make predictions on the test set\n",
    "y_pred = logreg.predict(X_test)\n",
    "\n",
    "# Calculate precision and recall for 'Contains'\n",
    "precision_contains = precision_score(y_test, y_pred, pos_label='Contains')\n",
    "precision_does_not_contain = precision_score(y_test, y_pred, pos_label='Does not contain')\n",
    "recall_contains = recall_score(y_test, y_pred, pos_label='Contains')\n",
    "recall_does_not_contain = recall_score(y_test, y_pred, pos_label='Does not contain')\n",
    "\n",
    "# Print the precision and recall\n",
    "print(\"Precision of 'Contains':\", precision_contains)\n",
    "print(\"Recall of 'Contains':\", recall_contains)\n",
    "print(\"Precision of 'Does not contain':\", precision_does_not_contain)\n",
    "print(\"Recall of 'Does not contain':\", recall_does_not_contain)\n",
    "accuracy = accuracy_score(y_test, y_pred)\n",
    "classification_rep = classification_report(y_test, y_pred)\n",
    "print(\"Accuracy\", accuracy)\n",
    "print(\"Classification Report\")\n",
    "print(classification_rep)\n"
   ]
  },
  {
   "cell_type": "markdown",
   "metadata": {},
   "source": [
    "### Enter the data to predict the output"
   ]
  },
  {
   "cell_type": "code",
   "execution_count": 39,
   "metadata": {},
   "outputs": [
    {
     "name": "stdout",
     "output_type": "stream",
     "text": [
      "The predicted allergen status is: Contains\n"
     ]
    }
   ],
   "source": [
    "\n",
    "def encode_input(input_data, encoder):\n",
    "    # Convert input data to DataFrame\n",
    "    input_df = pd.DataFrame([input_data])\n",
    "    # Use the encoder to transform the data\n",
    "    encoded_data = encoder.transform(input_df).toarray()\n",
    "    return encoded_data\n",
    "\n",
    "def predict_allergen_status(model, encoder):\n",
    "    # Get user input for each feature\n",
    "    input_data = {\n",
    "        'Food Product': input(\"Enter Food Product Name: \"),\n",
    "        'Main Ingredient': input(\"Enter Main Ingredient: \"),\n",
    "        'Sweetener': input(\"Enter Sweetener (or None): \"),\n",
    "        'Fat/Oil': input(\"Enter Fat/Oil (or None): \"),\n",
    "        'Seasoning': input(\"Enter Seasoning (or None): \"),\n",
    "    }\n",
    "\n",
    "    # Encode the input data\n",
    "    encoded_data = encode_input(input_data, encoder)\n",
    "\n",
    "    # Make a prediction\n",
    "    prediction = model.predict(encoded_data)\n",
    "    return prediction[0]\n",
    "\n",
    "if __name__ == \"__main__\":\n",
    "    # Assuming 'logreg' is the trained logistic regression model\n",
    "    # and 'encoder' is the OneHotEncoder used during training\n",
    "    prediction = predict_allergen_status(logreg, encoder)\n",
    "    print(f\"The predicted allergen status is: {prediction}\")\n"
   ]
  }
 ],
 "metadata": {
  "kernelspec": {
   "display_name": "Seastell",
   "language": "python",
   "name": "python3"
  },
  "language_info": {
   "codemirror_mode": {
    "name": "ipython",
    "version": 3
   },
   "file_extension": ".py",
   "mimetype": "text/x-python",
   "name": "python",
   "nbconvert_exporter": "python",
   "pygments_lexer": "ipython3",
   "version": "3.11.5"
  }
 },
 "nbformat": 4,
 "nbformat_minor": 2
}
