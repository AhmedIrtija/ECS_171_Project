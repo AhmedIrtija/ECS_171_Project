{
 "cells": [
  {
   "cell_type": "code",
   "execution_count": null,
   "metadata": {},
   "outputs": [],
   "source": [
    "import pandas as pd\n",
    "# Load the dataset\n",
    "data = pd.read_csv(\"Allergen_Status_of_Food_Products.csv\")\n",
    "\n",
    "# Display the first few rows of the dataset for exploration\n",
    "data.head()\n"
   ]
  },
  {
   "cell_type": "code",
   "execution_count": null,
   "metadata": {},
   "outputs": [],
   "source": [
    "import pandas as pd\n",
    "from sklearn.feature_extraction.text import CountVectorizer\n",
    "from sklearn.model_selection import train_test_split\n",
    "from sklearn.preprocessing import MultiLabelBinarizer\n",
    "from tensorflow.keras.models import Sequential\n",
    "from tensorflow.keras.layers import Dense, Dropout\n",
    "from tensorflow.keras.models import load_model"
   ]
  },
  {
   "cell_type": "code",
   "execution_count": null,
   "metadata": {},
   "outputs": [],
   "source": [
    "\n",
    "# Preprocessing the data\n",
    "data = pd.read_csv(\"Allergen_Status_of_Food_Products.csv\")\n",
    "\n",
    "# Fill NaN values with empty strings in the relevant columns\n",
    "data = data.fillna('')\n",
    "\n",
    "# Encoding the input features using CountVectorizer\n",
    "vectorizer = CountVectorizer()\n",
    "X = vectorizer.fit_transform(data['Food Product'] + \" \" + \n",
    "                             data['Main Ingredient'] + \" \" + \n",
    "                             data['Sweetener'] + \" \" + \n",
    "                             data['Fat/Oil'] + \" \" + \n",
    "                             data['Seasoning'])\n",
    "\n",
    "# Preparing the target variable for multi-label classification\n",
    "mlb = MultiLabelBinarizer()\n",
    "y = mlb.fit_transform(data['Allergens'].str.split(', '))\n",
    "\n",
    "# Splitting the dataset into training and testing sets\n",
    "X_train, X_test, y_train, y_test = train_test_split(X, y, test_size=0.2, random_state=42)\n"
   ]
  },
  {
   "cell_type": "code",
   "execution_count": null,
   "metadata": {},
   "outputs": [],
   "source": [
    "\n",
    "# Create the model\n",
    "model = Sequential()\n",
    "model.add(Dense(128, input_dim=X_train.shape[1], activation='relu'))\n",
    "model.add(Dropout(0.5))\n",
    "model.add(Dense(64, activation='relu'))\n",
    "model.add(Dropout(0.5))\n",
    "model.add(Dense(y_train.shape[1], activation='sigmoid'))\n",
    "\n",
    "# Compile the model\n",
    "model.compile(optimizer='adam', loss='binary_crossentropy', metrics=['accuracy'])\n",
    "\n",
    "# Train the model\n",
    "# Convert the sparse matrix to a dense NumPy array\n",
    "X_train_dense = X_train.toarray()\n",
    "X_test_dense = X_test.toarray()\n",
    "\n",
    "# Train the model with the dense data\n",
    "history = model.fit(X_train_dense, y_train, epochs=800, batch_size=32, validation_split=0.2)\n",
    "\n",
    "# Evaluate the model on the test set using the dense data\n",
    "loss, accuracy = model.evaluate(X_test_dense, y_test)\n",
    "print(f\"Test Accuracy: {accuracy*100:.2f}%\")\n",
    "\n",
    "# Make predictions using the dense data\n",
    "predictions = model.predict(X_test_dense)\n",
    "model.save('ALE.h5')  # creates a HDF5 file 'my_model.h5'\n",
    "\n",
    "\n"
   ]
  },
  {
   "cell_type": "code",
   "execution_count": null,
   "metadata": {},
   "outputs": [],
   "source": [
    "trained_model = load_model('ALE.h5')"
   ]
  },
  {
   "cell_type": "code",
   "execution_count": null,
   "metadata": {},
   "outputs": [],
   "source": [
    "def predict_allergens_with_user_input(model, vectorizer, mlb, threshold=0.5):\n",
    "    \"\"\"\n",
    "    Predicts allergens in a given food product based on user inputted ingredients\n",
    "    and provides the likelihood of each allergen.\n",
    "\n",
    "    Parameters:\n",
    "    - model: Trained machine learning model for prediction.\n",
    "    - vectorizer: CountVectorizer fitted on the training data.\n",
    "    - mlb: MultiLabelBinarizer fitted on the training data.\n",
    "    - threshold: Threshold for predicting the presence of an allergen (default is 0.5).\n",
    "\n",
    "    Returns:\n",
    "    - A dictionary with allergens and their likelihood.\n",
    "    \"\"\"\n",
    "\n",
    "    # User input\n",
    "    food_product = input(\"Enter Food Product Name: \")\n",
    "    main_ingredient = input(\"Enter Main Ingredient: \")\n",
    "    sweetener = input(\"Enter Sweetener (or None): \")\n",
    "    fat_oil = input(\"Enter Fat/Oil (or None): \")\n",
    "    seasoning = input(\"Enter Seasoning (or None): \")\n",
    "\n",
    "    # Combining the input data and transforming it using the vectorizer\n",
    "    combined_input = vectorizer.transform([f\"{food_product} {main_ingredient} {sweetener} {fat_oil} {seasoning}\"])\n",
    "\n",
    "    # Getting model predictions\n",
    "    pred_probabilities = model.predict(combined_input.toarray())[0]\n",
    "\n",
    "    # Creating a dictionary of allergen probabilities\n",
    "    allergen_probabilities = {allergen: prob for allergen, prob in zip(mlb.classes_, pred_probabilities)}\n",
    "\n",
    "    # Filtering to include only allergens with probability above the threshold\n",
    "    likely_allergens = {allergen: prob for allergen, prob in allergen_probabilities.items() if prob > threshold}\n",
    "    if likely_allergens:\n",
    "        return likely_allergens\n",
    "    else:\n",
    "        return \"Does not contain allergens\"\n",
    "\n",
    "allergen_predictions = predict_allergens_with_user_input(trained_model, vectorizer, mlb)\n",
    "allergen_predictions\n"
   ]
  }
 ],
 "metadata": {
  "kernelspec": {
   "display_name": "Seastell",
   "language": "python",
   "name": "python3"
  },
  "language_info": {
   "codemirror_mode": {
    "name": "ipython",
    "version": 3
   },
   "file_extension": ".py",
   "mimetype": "text/x-python",
   "name": "python",
   "nbconvert_exporter": "python",
   "pygments_lexer": "ipython3",
   "version": "3.10.11"
  }
 },
 "nbformat": 4,
 "nbformat_minor": 2
}
