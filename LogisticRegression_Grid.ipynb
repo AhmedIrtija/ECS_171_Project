{
 "cells": [
  {
   "cell_type": "markdown",
   "metadata": {},
   "source": [
    "### Import packages needed for the project"
   ]
  },
  {
   "cell_type": "code",
   "execution_count": 3,
   "metadata": {},
   "outputs": [],
   "source": [
    "import matplotlib.pyplot as plt\n",
    "import seaborn as sns\n",
    "import pandas as pd\n",
    "import numpy as np\n",
    "import plotly.express as px\n",
    "import plotly.figure_factory as ff\n",
    "\n",
    "from sklearn.model_selection import train_test_split\n",
    "from sklearn.metrics import classification_report, mean_squared_error, accuracy_score, precision_score, recall_score\n",
    "from sklearn.preprocessing import PolynomialFeatures\n",
    "from sklearn.linear_model import LinearRegression\n",
    "from sklearn.linear_model import LogisticRegression\n",
    "from sklearn import preprocessing\n",
    "from sklearn.preprocessing import LabelEncoder\n",
    "from sklearn.preprocessing import OneHotEncoder\n",
    "from sklearn.model_selection import GridSearchCV\n",
    "from imblearn.over_sampling import SMOTE\n",
    "from sklearn.metrics import f1_score, make_scorer\n",
    "\n",
    "\n",
    "from IPython.display import display\n",
    "\n",
    "from sklearn.svm import OneClassSVM\n",
    "from numpy import where"
   ]
  },
  {
   "cell_type": "markdown",
   "metadata": {},
   "source": [
    "### Preprocess the data from the csv file"
   ]
  },
  {
   "cell_type": "code",
   "execution_count": 4,
   "metadata": {},
   "outputs": [],
   "source": [
    "# Load the dataset\n",
    "data = pd.read_csv('Allergen_Status_of_Food_Products.csv')\n",
    "\n",
    "# Check for and handle NaN values in the 'Prediction' column\n",
    "data_cleaned = data.dropna(subset=['Prediction'])\n",
    "\n",
    "# Dropping unnecessary columns\n",
    "data_cleaned = data_cleaned.drop(['Price ($)', 'Customer rating (Out of 5)', 'Allergens'], axis=1)\n",
    "\n",
    "# Encoding categorical variables\n",
    "# Modify encoder initialization to handle unknown categories\n",
    "encoder = OneHotEncoder(handle_unknown='ignore')\n",
    "encoder.fit(data_cleaned[['Food Product', 'Main Ingredient', 'Sweetener', 'Fat/Oil', 'Seasoning', ]])\n",
    "data_encoded = encoder.transform(data_cleaned[['Food Product', 'Main Ingredient', 'Sweetener', 'Fat/Oil', 'Seasoning']])\n",
    "\n",
    "# Split the data\n",
    "X = data_encoded\n",
    "y = data_cleaned['Prediction']\n",
    "# Apply SMOTE\n",
    "\n",
    "X_train, X_test, y_train, y_test = train_test_split(X, y, test_size=0.2, random_state=21)\n",
    "smote = SMOTE()\n",
    "X_train_resampled, y_train_resampled = smote.fit_resample(X_train, y_train)\n",
    "\n"
   ]
  },
  {
   "cell_type": "markdown",
   "metadata": {},
   "source": [
    "### Create a logistic regression model for the data"
   ]
  },
  {
   "cell_type": "code",
   "execution_count": 5,
   "metadata": {},
   "outputs": [
    {
     "name": "stdout",
     "output_type": "stream",
     "text": [
      "Best parameters: {'C': 100}\n",
      "Best cross-validated score: 0.921801343659942\n",
      "Precision of 'Contains': 0.92\n",
      "Recall of 'Contains': 0.92\n",
      "Precision of 'Does not contain': 0.8666666666666667\n",
      "Recall of 'Does not contain': 0.8666666666666667\n",
      "Accuracy 0.9\n",
      "Classification Report\n",
      "                  precision    recall  f1-score   support\n",
      "\n",
      "        Contains       0.92      0.92      0.92        50\n",
      "Does not contain       0.87      0.87      0.87        30\n",
      "\n",
      "        accuracy                           0.90        80\n",
      "       macro avg       0.89      0.89      0.89        80\n",
      "    weighted avg       0.90      0.90      0.90        80\n",
      "\n"
     ]
    }
   ],
   "source": [
    "# Define a set of values to try for C\n",
    "param_grid = {'C': [0.001, 0.01, 0.1, 1, 10, 100]}\n",
    "# Define a custom scorer based on F1 score\n",
    "f1_scorer = make_scorer(f1_score, average='binary', pos_label='Contains')\n",
    "\n",
    "# Initialize GridSearchCV with the F1 scorer\n",
    "grid_search = GridSearchCV(LogisticRegression(max_iter=10000, penalty='l2', class_weight='balanced'), \n",
    "                           param_grid, \n",
    "                           cv=5,\n",
    "                           scoring=f1_scorer)\n",
    "# Fit the model\n",
    "grid_search.fit(X_train_resampled, y_train_resampled)\n",
    "\n",
    "# Print the best parameters and the corresponding score\n",
    "print(\"Best parameters:\", grid_search.best_params_)\n",
    "print(\"Best cross-validated score:\", grid_search.best_score_)\n",
    "# Create and train the logistic regression model\n",
    "#logreg = LogisticRegression(max_iter=10000, penalty='l2')\n",
    "#logreg.fit(X_train, y_train)\n",
    "\n",
    "# Make predictions on the test set\n",
    "y_pred = grid_search.predict(X_test)\n",
    "#y_pred = logreg.predict(X_test)\n",
    "\n",
    "# Calculate precision and recall for 'Contains'\n",
    "precision_contains = precision_score(y_test, y_pred, pos_label='Contains')\n",
    "precision_does_not_contain = precision_score(y_test, y_pred, pos_label='Does not contain')\n",
    "recall_contains = recall_score(y_test, y_pred, pos_label='Contains')\n",
    "recall_does_not_contain = recall_score(y_test, y_pred, pos_label='Does not contain')\n",
    "\n",
    "# Print the precision and recall\n",
    "print(\"Precision of 'Contains':\", precision_contains)\n",
    "print(\"Recall of 'Contains':\", recall_contains)\n",
    "print(\"Precision of 'Does not contain':\", precision_does_not_contain)\n",
    "print(\"Recall of 'Does not contain':\", recall_does_not_contain)\n",
    "accuracy = accuracy_score(y_test, y_pred)\n",
    "classification_rep = classification_report(y_test, y_pred)\n",
    "print(\"Accuracy\", accuracy)\n",
    "print(\"Classification Report\")\n",
    "print(classification_rep)\n",
    "\n"
   ]
  },
  {
   "cell_type": "markdown",
   "metadata": {},
   "source": [
    "## Using the threshold"
   ]
  },
  {
   "cell_type": "code",
   "execution_count": 6,
   "metadata": {},
   "outputs": [
    {
     "name": "stdout",
     "output_type": "stream",
     "text": [
      "Precision of 'Contains': 0.9215686274509803\n",
      "Recall of 'Contains': 0.94\n",
      "Precision of 'Does not contain': 0.896551724137931\n",
      "Recall of 'Does not contain': 0.8666666666666667\n",
      "Accuracy 0.9125\n",
      "Classification Report\n",
      "                  precision    recall  f1-score   support\n",
      "\n",
      "        Contains       0.92      0.94      0.93        50\n",
      "Does not contain       0.90      0.87      0.88        30\n",
      "\n",
      "        accuracy                           0.91        80\n",
      "       macro avg       0.91      0.90      0.91        80\n",
      "    weighted avg       0.91      0.91      0.91        80\n",
      "\n"
     ]
    }
   ],
   "source": [
    "# After fitting the grid search\n",
    "T_model = grid_search.best_estimator_\n",
    "\n",
    "# Get predicted probabilities\n",
    "y_pred_prob = T_model.predict_proba(X_test)[:, 0]  # Assuming 'Contains' is the second class\n",
    "\n",
    "# Choose a threshold\n",
    "threshold = 0.23  \n",
    "\n",
    "# Apply threshold to get new predictions\n",
    "y_pred_new = np.where(y_pred_prob > threshold, 'Contains', 'Does not contain')\n",
    "\n",
    "# Calculate precision and recall for 'Contains'\n",
    "precision_contains_T = precision_score(y_test, y_pred_new, pos_label='Contains')\n",
    "precision_does_not_contain_T = precision_score(y_test, y_pred_new, pos_label='Does not contain')\n",
    "recall_contains_T = recall_score(y_test, y_pred_new, pos_label='Contains')\n",
    "recall_does_not_contain_T = recall_score(y_test, y_pred_new, pos_label='Does not contain')\n",
    "\n",
    "# Print the precision and recall\n",
    "print(\"Precision of 'Contains':\", precision_contains_T)\n",
    "print(\"Recall of 'Contains':\", recall_contains_T)\n",
    "print(\"Precision of 'Does not contain':\", precision_does_not_contain_T)\n",
    "print(\"Recall of 'Does not contain':\", recall_does_not_contain_T)\n",
    "accuracy_T = accuracy_score(y_test, y_pred_new)\n",
    "classification_rep_T = classification_report(y_test, y_pred_new)\n",
    "print(\"Accuracy\", accuracy_T)\n",
    "print(\"Classification Report\")\n",
    "print(classification_rep_T)\n"
   ]
  },
  {
   "cell_type": "code",
   "execution_count": 71,
   "metadata": {},
   "outputs": [
    {
     "data": {
      "text/plain": [
       "['grid_search_model.joblib']"
      ]
     },
     "execution_count": 71,
     "metadata": {},
     "output_type": "execute_result"
    }
   ],
   "source": [
    "from joblib import dump\n",
    "\n",
    "# Save the grid_search object (which contains your trained model)\n",
    "dump(grid_search, 'grid_search_model.joblib')\n"
   ]
  },
  {
   "cell_type": "code",
   "execution_count": 97,
   "metadata": {},
   "outputs": [
    {
     "data": {
      "text/plain": [
       "['T_model.joblib']"
      ]
     },
     "execution_count": 97,
     "metadata": {},
     "output_type": "execute_result"
    }
   ],
   "source": [
    "dump(T_model, 'T_model.joblib')"
   ]
  },
  {
   "cell_type": "markdown",
   "metadata": {},
   "source": [
    "### Enter the data to predict the output"
   ]
  },
  {
   "cell_type": "code",
   "execution_count": 7,
   "metadata": {},
   "outputs": [],
   "source": [
    "from joblib import load\n",
    "\n",
    "# Load the model\n",
    "grid_model = load('grid_search_model.joblib')"
   ]
  },
  {
   "cell_type": "code",
   "execution_count": 8,
   "metadata": {},
   "outputs": [],
   "source": [
    "TT_model = load('T_model.joblib')"
   ]
  },
  {
   "cell_type": "code",
   "execution_count": 9,
   "metadata": {},
   "outputs": [
    {
     "name": "stdout",
     "output_type": "stream",
     "text": [
      "The predicted allergen status is: Contains\n"
     ]
    }
   ],
   "source": [
    "\n",
    "def encode_input(input_data, encoder):\n",
    "    # Convert input data to DataFrame\n",
    "    input_df = pd.DataFrame([input_data])\n",
    "    # Use the encoder to transform the data\n",
    "    encoded_data = encoder.transform(input_df).toarray()\n",
    "    return encoded_data\n",
    "\n",
    "def predict_allergen_status(model, encoder):\n",
    "    # Get user input for each feature\n",
    "    input_data = {\n",
    "        'Food Product': input(\"Enter Food Product Name: \"),\n",
    "        'Main Ingredient': input(\"Enter Main Ingredient: \"),\n",
    "        'Sweetener': input(\"Enter Sweetener (or None): \"),\n",
    "        'Fat/Oil': input(\"Enter Fat/Oil (or None): \"),\n",
    "        'Seasoning': input(\"Enter Seasoning (or None): \"),\n",
    "    }\n",
    "\n",
    "    # Encode the input data\n",
    "    encoded_data = encode_input(input_data, encoder)\n",
    "\n",
    "    # Make a prediction\n",
    "    prediction = model.predict(encoded_data)\n",
    "    return prediction[0]\n",
    "\n",
    "if __name__ == \"__main__\":\n",
    "    # Assuming 'logreg' is the trained logistic regression model\n",
    "    # and 'encoder' is the OneHotEncoder used during training\n",
    "    prediction = predict_allergen_status(grid_model, encoder)\n",
    "    print(f\"The predicted allergen status is: {prediction}\")\n"
   ]
  },
  {
   "cell_type": "code",
   "execution_count": 10,
   "metadata": {},
   "outputs": [
    {
     "name": "stdout",
     "output_type": "stream",
     "text": [
      "The predicted allergen status is: Contains\n"
     ]
    }
   ],
   "source": [
    "\n",
    "def encode_input(input_data, encoder):\n",
    "    # Convert input data to DataFrame\n",
    "    input_df = pd.DataFrame([input_data])\n",
    "    # Use the encoder to transform the data\n",
    "    encoded_data = encoder.transform(input_df).toarray()\n",
    "    return encoded_data\n",
    "\n",
    "def predict_allergen_status(model, encoder):\n",
    "    # Get user input for each feature\n",
    "    input_data = {\n",
    "        'Food Product': input(\"Enter Food Product Name: \"),\n",
    "        'Main Ingredient': input(\"Enter Main Ingredient: \"),\n",
    "        'Sweetener': input(\"Enter Sweetener (or None): \"),\n",
    "        'Fat/Oil': input(\"Enter Fat/Oil (or None): \"),\n",
    "        'Seasoning': input(\"Enter Seasoning (or None): \"),\n",
    "    }\n",
    "\n",
    "    # Encode the input data\n",
    "    encoded_data = encode_input(input_data, encoder)\n",
    "\n",
    "    # Make a prediction\n",
    "    prediction = model.predict(encoded_data)\n",
    "    return prediction[0]\n",
    "\n",
    "if __name__ == \"__main__\":\n",
    "    # Assuming 'logreg' is the trained logistic regression model\n",
    "    # and 'encoder' is the OneHotEncoder used during training\n",
    "    prediction = predict_allergen_status(TT_model, encoder)\n",
    "    print(f\"The predicted allergen status is: {prediction}\")\n"
   ]
  }
 ],
 "metadata": {
  "kernelspec": {
   "display_name": "Seastell",
   "language": "python",
   "name": "python3"
  },
  "language_info": {
   "codemirror_mode": {
    "name": "ipython",
    "version": 3
   },
   "file_extension": ".py",
   "mimetype": "text/x-python",
   "name": "python",
   "nbconvert_exporter": "python",
   "pygments_lexer": "ipython3",
   "version": "3.11.5"
  }
 },
 "nbformat": 4,
 "nbformat_minor": 2
}
